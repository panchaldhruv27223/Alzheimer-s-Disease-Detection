{
 "cells": [
  {
   "cell_type": "markdown",
   "metadata": {},
   "source": [
    "#### Here we create the model by using the VGG16 transfer learning technique."
   ]
  },
  {
   "cell_type": "code",
   "execution_count": 32,
   "metadata": {},
   "outputs": [],
   "source": [
    "import pandas as pd\n",
    "import numpy as np \n",
    "import tensorflow as tf\n",
    "from tensorflow import keras\n",
    "from keras.models import Sequential\n",
    "from keras.layers import Dense, Flatten, Dropout\n",
    "from keras.preprocessing.image import ImageDataGenerator\n",
    "from tensorflow.keras import Model\n",
    "import matplotlib.pyplot as plt \n",
    "import seaborn as sns"
   ]
  },
  {
   "cell_type": "code",
   "execution_count": 2,
   "metadata": {},
   "outputs": [],
   "source": [
    "batch_size = 32\n",
    "img_height = 224\n",
    "img_width = 224"
   ]
  },
  {
   "cell_type": "code",
   "execution_count": 3,
   "metadata": {},
   "outputs": [],
   "source": [
    "import os "
   ]
  },
  {
   "cell_type": "code",
   "execution_count": 4,
   "metadata": {},
   "outputs": [
    {
     "data": {
      "text/plain": [
       "['VGG16_from_pretrain.ipynb', 'VGG16_from_scratch.ipynb']"
      ]
     },
     "execution_count": 4,
     "metadata": {},
     "output_type": "execute_result"
    }
   ],
   "source": [
    "os.listdir()"
   ]
  },
  {
   "cell_type": "code",
   "execution_count": 5,
   "metadata": {},
   "outputs": [],
   "source": [
    "os.chdir(\"../\")"
   ]
  },
  {
   "cell_type": "code",
   "execution_count": 6,
   "metadata": {},
   "outputs": [
    {
     "data": {
      "text/plain": [
       "'c:\\\\Users\\\\dhruv\\\\Documents\\\\DA-IICT\\\\sem-1\\\\FOML\\\\DAIICT_FOML_Project\\\\Alzheimers_Disease_Detection'"
      ]
     },
     "execution_count": 6,
     "metadata": {},
     "output_type": "execute_result"
    }
   ],
   "source": [
    "os.getcwd()"
   ]
  },
  {
   "cell_type": "code",
   "execution_count": 31,
   "metadata": {},
   "outputs": [],
   "source": [
    "#### collect the data from the local disk"
   ]
  },
  {
   "cell_type": "code",
   "execution_count": 9,
   "metadata": {},
   "outputs": [
    {
     "name": "stdout",
     "output_type": "stream",
     "text": [
      "geting the train data\n",
      "Found 1581 images belonging to 4 classes.\n",
      "geting the Test_Data\n",
      "Found 410 images belonging to 4 classes.\n",
      "geting the validation data\n",
      "Found 395 images belonging to 4 classes.\n",
      "Data collected successfully\n"
     ]
    }
   ],
   "source": [
    "trainDataGen = ImageDataGenerator(\n",
    "    rescale= 1./255,\n",
    "    zoom_range= 0.2,\n",
    "    horizontal_flip= True,\n",
    "    validation_split= 0.2  \n",
    ")\n",
    "\n",
    "validationDataGen = ImageDataGenerator(\n",
    "    rescale= 1./255,\n",
    "    validation_split=0.2\n",
    ")\n",
    "\n",
    "testDataGen = ImageDataGenerator(\n",
    "    rescale= 1./255 \n",
    ")\n",
    "\n",
    "print(\"geting the train data\")\n",
    "\n",
    "trainData = trainDataGen.flow_from_directory(\n",
    "    \"Data\",\n",
    "    subset=\"training\",\n",
    "    class_mode=\"categorical\",\n",
    "    target_size=(224,224)\n",
    ")\n",
    "\n",
    "print(\"geting the Test_Data\")\n",
    "\n",
    "testData = testDataGen.flow_from_directory(\n",
    "    \"Test_Data\",\n",
    "    class_mode=\"categorical\",\n",
    "    target_size=(224,224)\n",
    ")\n",
    "\n",
    "print(\"geting the validation data\")\n",
    "\n",
    "validData = validationDataGen.flow_from_directory(\n",
    "    \"Data\",\n",
    "    subset=\"validation\",\n",
    "    class_mode=\"categorical\",\n",
    "    target_size=(224,224)\n",
    ")\n",
    "\n",
    "print(\"Data collected successfully\")"
   ]
  },
  {
   "cell_type": "code",
   "execution_count": 21,
   "metadata": {},
   "outputs": [],
   "source": [
    "# directory = r\"C:\\Users\\dhruv\\Documents\\DAIICT_ML_Project\\Alzheimers_Disease_Detection\\Data\"\n",
    "\n",
    "# train_df = keras.utils.image_dataset_from_directory(\n",
    "#     directory,\n",
    "#     labels=\"inferred\",\n",
    "#     label_mode = \"int\",\n",
    "#     batch_size=32,\n",
    "#     image_size=(224,224),\n",
    "#     validation_split = 0.2,\n",
    "#     seed = 42,\n",
    "#     subset=\"training\"\n",
    "# )\n",
    "\n",
    "# valid_df = keras.utils.image_dataset_from_directory(\n",
    "#     directory,\n",
    "#     labels=\"inferred\",\n",
    "#     label_mode = \"int\",\n",
    "#     batch_size=32,\n",
    "#     image_size=(224,224),\n",
    "#     validation_split = 0.2,\n",
    "#     seed = 42,\n",
    "#     subset=\"validation\"\n",
    "# )"
   ]
  },
  {
   "cell_type": "code",
   "execution_count": 11,
   "metadata": {},
   "outputs": [
    {
     "data": {
      "text/plain": [
       "<keras.preprocessing.image.DirectoryIterator at 0x2c0d10a8c70>"
      ]
     },
     "execution_count": 11,
     "metadata": {},
     "output_type": "execute_result"
    }
   ],
   "source": [
    "trainData"
   ]
  },
  {
   "cell_type": "code",
   "execution_count": 12,
   "metadata": {},
   "outputs": [
    {
     "data": {
      "text/plain": [
       "array([0, 0, 0, ..., 3, 3, 3])"
      ]
     },
     "execution_count": 12,
     "metadata": {},
     "output_type": "execute_result"
    }
   ],
   "source": [
    "trainData.classes"
   ]
  },
  {
   "cell_type": "markdown",
   "metadata": {},
   "source": [
    "#### Classes "
   ]
  },
  {
   "cell_type": "code",
   "execution_count": 14,
   "metadata": {},
   "outputs": [
    {
     "data": {
      "text/plain": [
       "{'Mild Dementia': 0,\n",
       " 'Moderate Dementia': 1,\n",
       " 'Non Demented': 2,\n",
       " 'Very mild Dementia': 3}"
      ]
     },
     "execution_count": 14,
     "metadata": {},
     "output_type": "execute_result"
    }
   ],
   "source": [
    "trainData.class_indices"
   ]
  },
  {
   "cell_type": "code",
   "execution_count": 18,
   "metadata": {},
   "outputs": [],
   "source": [
    "num_class  = trainData.num_classes"
   ]
  },
  {
   "cell_type": "markdown",
   "metadata": {},
   "source": [
    "#### Loading the VGG16 model and do the transfer learning"
   ]
  },
  {
   "cell_type": "code",
   "execution_count": 19,
   "metadata": {},
   "outputs": [],
   "source": [
    "from keras.applications.vgg16 import VGG16"
   ]
  },
  {
   "cell_type": "code",
   "execution_count": 21,
   "metadata": {},
   "outputs": [],
   "source": [
    "vgg16 = VGG16(weights='imagenet', input_shape=(224,224,3), classes=num_class, include_top=False)\n",
    "\n",
    "for layer in vgg16.layers:\n",
    "    layer.trainable = False"
   ]
  },
  {
   "cell_type": "code",
   "execution_count": 22,
   "metadata": {},
   "outputs": [],
   "source": [
    "x = Flatten()(vgg16.output)\n",
    "x = Dense(256, activation='relu')(x)\n",
    "x = Dropout(0.5)(x)\n",
    "predictions = Dense(num_class, activation='softmax')(x)"
   ]
  },
  {
   "cell_type": "code",
   "execution_count": 23,
   "metadata": {},
   "outputs": [],
   "source": [
    "model = Model(inputs=vgg16.input, outputs=predictions)"
   ]
  },
  {
   "cell_type": "code",
   "execution_count": 24,
   "metadata": {},
   "outputs": [],
   "source": [
    "optimizer='adam'\n",
    "loss='categorical_crossentropy'"
   ]
  },
  {
   "cell_type": "code",
   "execution_count": 25,
   "metadata": {},
   "outputs": [],
   "source": [
    "model.compile(optimizer = optimizer, loss = loss, metrics = [\"accuracy\"])"
   ]
  },
  {
   "cell_type": "markdown",
   "metadata": {},
   "source": [
    "#### Model architecture"
   ]
  },
  {
   "cell_type": "code",
   "execution_count": 26,
   "metadata": {},
   "outputs": [
    {
     "name": "stdout",
     "output_type": "stream",
     "text": [
      "Model: \"model\"\n",
      "_________________________________________________________________\n",
      " Layer (type)                Output Shape              Param #   \n",
      "=================================================================\n",
      " input_1 (InputLayer)        [(None, 224, 224, 3)]     0         \n",
      "                                                                 \n",
      " block1_conv1 (Conv2D)       (None, 224, 224, 64)      1792      \n",
      "                                                                 \n",
      " block1_conv2 (Conv2D)       (None, 224, 224, 64)      36928     \n",
      "                                                                 \n",
      " block1_pool (MaxPooling2D)  (None, 112, 112, 64)      0         \n",
      "                                                                 \n",
      " block2_conv1 (Conv2D)       (None, 112, 112, 128)     73856     \n",
      "                                                                 \n",
      " block2_conv2 (Conv2D)       (None, 112, 112, 128)     147584    \n",
      "                                                                 \n",
      " block2_pool (MaxPooling2D)  (None, 56, 56, 128)       0         \n",
      "                                                                 \n",
      " block3_conv1 (Conv2D)       (None, 56, 56, 256)       295168    \n",
      "                                                                 \n",
      " block3_conv2 (Conv2D)       (None, 56, 56, 256)       590080    \n",
      "                                                                 \n",
      " block3_conv3 (Conv2D)       (None, 56, 56, 256)       590080    \n",
      "                                                                 \n",
      " block3_pool (MaxPooling2D)  (None, 28, 28, 256)       0         \n",
      "                                                                 \n",
      " block4_conv1 (Conv2D)       (None, 28, 28, 512)       1180160   \n",
      "                                                                 \n",
      " block4_conv2 (Conv2D)       (None, 28, 28, 512)       2359808   \n",
      "                                                                 \n",
      " block4_conv3 (Conv2D)       (None, 28, 28, 512)       2359808   \n",
      "                                                                 \n",
      " block4_pool (MaxPooling2D)  (None, 14, 14, 512)       0         \n",
      "                                                                 \n",
      " block5_conv1 (Conv2D)       (None, 14, 14, 512)       2359808   \n",
      "                                                                 \n",
      " block5_conv2 (Conv2D)       (None, 14, 14, 512)       2359808   \n",
      "                                                                 \n",
      " block5_conv3 (Conv2D)       (None, 14, 14, 512)       2359808   \n",
      "                                                                 \n",
      " block5_pool (MaxPooling2D)  (None, 7, 7, 512)         0         \n",
      "                                                                 \n",
      " flatten_1 (Flatten)         (None, 25088)             0         \n",
      "                                                                 \n",
      " dense (Dense)               (None, 256)               6422784   \n",
      "                                                                 \n",
      " dropout (Dropout)           (None, 256)               0         \n",
      "                                                                 \n",
      " dense_1 (Dense)             (None, 4)                 1028      \n",
      "                                                                 \n",
      "=================================================================\n",
      "Total params: 21,138,500\n",
      "Trainable params: 6,423,812\n",
      "Non-trainable params: 14,714,688\n",
      "_________________________________________________________________\n"
     ]
    }
   ],
   "source": [
    "model.summary()"
   ]
  },
  {
   "cell_type": "code",
   "execution_count": 28,
   "metadata": {},
   "outputs": [],
   "source": [
    "from keras.callbacks import EarlyStopping"
   ]
  },
  {
   "cell_type": "markdown",
   "metadata": {},
   "source": [
    "#### Model traning "
   ]
  },
  {
   "cell_type": "code",
   "execution_count": 40,
   "metadata": {},
   "outputs": [
    {
     "name": "stdout",
     "output_type": "stream",
     "text": [
      "Epoch 1/10\n",
      "50/50 [==============================] - 223s 4s/step - loss: 0.9995 - accuracy: 0.5636 - val_loss: 1.1467 - val_accuracy: 0.4375\n",
      "Epoch 2/10\n",
      "50/50 [==============================] - 226s 5s/step - loss: 0.8367 - accuracy: 0.6439 - val_loss: 1.0354 - val_accuracy: 0.6219\n",
      "Epoch 3/10\n",
      "50/50 [==============================] - 232s 5s/step - loss: 0.6834 - accuracy: 0.7135 - val_loss: 0.8062 - val_accuracy: 0.7656\n",
      "Epoch 4/10\n",
      "50/50 [==============================] - 256s 5s/step - loss: 0.5713 - accuracy: 0.7634 - val_loss: 0.5394 - val_accuracy: 0.9438\n",
      "Epoch 5/10\n",
      "50/50 [==============================] - 276s 6s/step - loss: 0.4904 - accuracy: 0.7995 - val_loss: 0.4121 - val_accuracy: 0.9312\n",
      "Epoch 6/10\n",
      "50/50 [==============================] - 270s 5s/step - loss: 0.4903 - accuracy: 0.7862 - val_loss: 0.3397 - val_accuracy: 0.9438\n",
      "Epoch 7/10\n",
      "50/50 [==============================] - 246s 5s/step - loss: 0.4221 - accuracy: 0.8286 - val_loss: 0.2826 - val_accuracy: 0.9719\n",
      "Epoch 8/10\n",
      "50/50 [==============================] - 251s 5s/step - loss: 0.3594 - accuracy: 0.8520 - val_loss: 0.2252 - val_accuracy: 0.9906\n",
      "Epoch 9/10\n",
      "50/50 [==============================] - 253s 5s/step - loss: 0.3542 - accuracy: 0.8501 - val_loss: 0.1913 - val_accuracy: 0.9812\n",
      "Epoch 10/10\n",
      "50/50 [==============================] - 243s 5s/step - loss: 0.3599 - accuracy: 0.8501 - val_loss: 0.1751 - val_accuracy: 0.9750\n"
     ]
    }
   ],
   "source": [
    "history = model.fit(\n",
    "    trainData,\n",
    "    epochs=10,\n",
    "    validation_data=validData,\n",
    "    validation_steps=10,\n",
    "    callbacks=[keras.callbacks.EarlyStopping(patience=2)]\n",
    ")"
   ]
  },
  {
   "cell_type": "code",
   "execution_count": 41,
   "metadata": {},
   "outputs": [
    {
     "data": {
      "text/plain": [
       "{'loss': [0.999456524848938,\n",
       "  0.8366994857788086,\n",
       "  0.6833807229995728,\n",
       "  0.5713444352149963,\n",
       "  0.49042150378227234,\n",
       "  0.4902617931365967,\n",
       "  0.42208951711654663,\n",
       "  0.3594236373901367,\n",
       "  0.35415515303611755,\n",
       "  0.3598693907260895],\n",
       " 'accuracy': [0.5635673403739929,\n",
       "  0.6438962817192078,\n",
       "  0.7134724855422974,\n",
       "  0.7634408473968506,\n",
       "  0.7994939684867859,\n",
       "  0.7862112522125244,\n",
       "  0.8285894989967346,\n",
       "  0.8519924283027649,\n",
       "  0.8500948548316956,\n",
       "  0.8500948548316956],\n",
       " 'val_loss': [1.1467430591583252,\n",
       "  1.035407304763794,\n",
       "  0.806230902671814,\n",
       "  0.5393668413162231,\n",
       "  0.41206270456314087,\n",
       "  0.3397066593170166,\n",
       "  0.2826475203037262,\n",
       "  0.22524133324623108,\n",
       "  0.1912660449743271,\n",
       "  0.17514950037002563],\n",
       " 'val_accuracy': [0.4375,\n",
       "  0.621874988079071,\n",
       "  0.765625,\n",
       "  0.9437500238418579,\n",
       "  0.9312499761581421,\n",
       "  0.9437500238418579,\n",
       "  0.971875011920929,\n",
       "  0.9906250238418579,\n",
       "  0.981249988079071,\n",
       "  0.9750000238418579]}"
      ]
     },
     "execution_count": 41,
     "metadata": {},
     "output_type": "execute_result"
    }
   ],
   "source": [
    "history.history"
   ]
  },
  {
   "cell_type": "code",
   "execution_count": 60,
   "metadata": {},
   "outputs": [
    {
     "data": {
      "image/png": "[encoded data removed]",
      "text/plain": [
       "<Figure size 640x480 with 1 Axes>"
      ]
     },
     "metadata": {},
     "output_type": "display_data"
    }
   ],
   "source": [
    "plt.plot(history.history[\"loss\"], marker=\"o\", label=\"Trainning Loss\")\n",
    "plt.plot(history.history[\"val_loss\"], marker=\"X\", label=\"Validation Loss\")\n",
    "plt.xlabel(\"Epochs\")\n",
    "plt.ylabel(\"Loss\")\n",
    "plt.xticks(list(range(1,11,1)))\n",
    "plt.legend(loc=\"upper right\")\n",
    "plt.show()"
   ]
  },
  {
   "cell_type": "code",
   "execution_count": 63,
   "metadata": {},
   "outputs": [
    {
     "data": {
      "image/png": "[encoded data removed]",
      "text/plain": [
       "<Figure size 640x480 with 1 Axes>"
      ]
     },
     "metadata": {},
     "output_type": "display_data"
    }
   ],
   "source": [
    "plt.plot(history.history[\"accuracy\"], marker=\"o\", label=\"Trainning Accuracy\")\n",
    "plt.plot(history.history[\"val_accuracy\"], marker=\"X\", label=\"Validation Accuracy\")\n",
    "plt.xlabel(\"Epochs\")\n",
    "plt.ylabel(\"accuracy\")\n",
    "plt.xticks(list(range(1,11,1)))\n",
    "plt.legend(loc=\"upper right\")\n",
    "plt.show()"
   ]
  },
  {
   "cell_type": "markdown",
   "metadata": {},
   "source": [
    "#### Model evaluation"
   ]
  },
  {
   "cell_type": "code",
   "execution_count": 64,
   "metadata": {},
   "outputs": [
    {
     "name": "stdout",
     "output_type": "stream",
     "text": [
      "13/13 [==============================] - 55s 4s/step - loss: 1.6117 - accuracy: 0.4317\n",
      "test loss, test acc: [1.6116735935211182, 0.43170732259750366]\n"
     ]
    }
   ],
   "source": [
    "results = model.evaluate(testData, batch_size=128)\n",
    "print(\"test loss, test acc:\", results)"
   ]
  },
  {
   "cell_type": "code",
   "execution_count": 65,
   "metadata": {},
   "outputs": [],
   "source": [
    "test_loss, test_accuracy = results"
   ]
  },
  {
   "cell_type": "code",
   "execution_count": 66,
   "metadata": {},
   "outputs": [
    {
     "data": {
      "text/plain": [
       "1.6116735935211182"
      ]
     },
     "execution_count": 66,
     "metadata": {},
     "output_type": "execute_result"
    }
   ],
   "source": [
    "test_loss"
   ]
  },
  {
   "cell_type": "code",
   "execution_count": 67,
   "metadata": {},
   "outputs": [
    {
     "data": {
      "text/plain": [
       "0.43170732259750366"
      ]
     },
     "execution_count": 67,
     "metadata": {},
     "output_type": "execute_result"
    }
   ],
   "source": [
    "test_accuracy"
   ]
  },
  {
   "cell_type": "code",
   "execution_count": 73,
   "metadata": {},
   "outputs": [
    {
     "data": {
      "text/plain": [
       "array([0, 0, 0, 0, 0, 0, 0, 0, 0, 0, 0, 0, 0, 0, 0, 0, 0, 0, 0, 0, 0, 0,\n",
       "       0, 0, 0, 0, 0, 0, 0, 0, 0, 0, 0, 0, 0, 0, 0, 0, 0, 0, 0, 0, 0, 0,\n",
       "       0, 0, 0, 0, 0, 0, 0, 0, 0, 0, 0, 0, 0, 0, 0, 0, 0, 0, 0, 0, 0, 0,\n",
       "       0, 0, 0, 0, 0, 0, 0, 0, 0, 0, 0, 0, 0, 0, 0, 0, 0, 0, 0, 0, 0, 0,\n",
       "       0, 0, 0, 0, 0, 0, 0, 0, 0, 0, 0, 0, 0, 0, 0, 0, 0, 0, 0, 0, 0, 0,\n",
       "       0, 0, 0, 0, 0, 0, 0, 0, 0, 0, 0, 0, 0, 0, 0, 0, 0, 0, 1, 1, 1, 1,\n",
       "       1, 1, 1, 1, 1, 1, 1, 1, 1, 2, 2, 2, 2, 2, 2, 2, 2, 2, 2, 2, 2, 2,\n",
       "       2, 2, 2, 2, 2, 2, 2, 2, 2, 2, 2, 2, 2, 2, 2, 2, 2, 2, 2, 2, 2, 2,\n",
       "       2, 2, 2, 2, 2, 2, 2, 2, 2, 2, 2, 2, 2, 2, 2, 2, 2, 2, 2, 2, 2, 2,\n",
       "       2, 2, 2, 2, 2, 2, 2, 2, 2, 2, 2, 2, 2, 2, 2, 2, 2, 2, 3, 3, 3, 3,\n",
       "       3, 3, 3, 3, 3, 3, 3, 3, 3, 3, 3, 3, 3, 3, 3, 3, 3, 3, 3, 3, 3, 3,\n",
       "       3, 3, 3, 3, 3, 3, 3, 3, 3, 3, 3, 3, 3, 3, 3, 3, 3, 3, 3, 3, 3, 3,\n",
       "       3, 3, 3, 3, 3, 3, 3, 3, 3, 3, 3, 3, 3, 3, 3, 3, 3, 3, 3, 3, 3, 3,\n",
       "       3, 3, 3, 3, 3, 3, 3, 3, 3, 3, 3, 3, 3, 3, 3, 3, 3, 3, 3, 3, 3, 3,\n",
       "       3, 3, 3, 3, 3, 3, 3, 3, 3, 3, 3, 3, 3, 3, 3, 3, 3, 3, 3, 3, 3, 3,\n",
       "       3, 3, 3, 3, 3, 3, 3, 3, 3, 3, 3, 3, 3, 3, 3, 3, 3, 3, 3, 3, 3, 3,\n",
       "       3, 3, 3, 3, 3, 3, 3, 3, 3, 3, 3, 3, 3, 3, 3, 3, 3, 3, 3, 3, 3, 3,\n",
       "       3, 3, 3, 3, 3, 3, 3, 3, 3, 3, 3, 3, 3, 3, 3, 3, 3, 3, 3, 3, 3, 3,\n",
       "       3, 3, 3, 3, 3, 3, 3, 3, 3, 3, 3, 3, 3, 3])"
      ]
     },
     "execution_count": 73,
     "metadata": {},
     "output_type": "execute_result"
    }
   ],
   "source": [
    "y_true = testData.classes\n",
    "y_true"
   ]
  },
  {
   "cell_type": "code",
   "execution_count": 71,
   "metadata": {},
   "outputs": [
    {
     "name": "stdout",
     "output_type": "stream",
     "text": [
      "13/13 [==============================] - 58s 5s/step\n"
     ]
    }
   ],
   "source": [
    "y_predicted = model.predict(testData)"
   ]
  },
  {
   "cell_type": "code",
   "execution_count": 75,
   "metadata": {},
   "outputs": [
    {
     "data": {
      "text/plain": [
       "array([3, 0, 3, 0, 0, 3, 0, 1, 1, 0, 3, 0, 3, 3, 3, 1, 1, 0, 0, 2, 1, 3,\n",
       "       1, 3, 3, 0, 3, 3, 0, 0, 0, 3, 3, 3, 3, 2, 3, 0, 3, 0, 2, 3, 3, 3,\n",
       "       1, 1, 3, 1, 0, 2, 0, 3, 3, 3, 3, 3, 3, 3, 1, 3, 1, 3, 3, 0, 3, 1,\n",
       "       0, 1, 3, 1, 1, 3, 0, 3, 3, 2, 3, 1, 2, 0, 1, 2, 3, 1, 1, 3, 2, 0,\n",
       "       3, 3, 3, 1, 2, 0, 2, 1, 1, 0, 1, 3, 1, 3, 0, 1, 3, 1, 1, 0, 3, 0,\n",
       "       1, 3, 3, 1, 0, 3, 3, 0, 0, 1, 0, 0, 0, 3, 3, 0, 1, 1, 3, 0, 0, 0,\n",
       "       1, 3, 2, 3, 3, 1, 2, 3, 3, 1, 3, 1, 0, 3, 1, 3, 1, 3, 1, 2, 3, 3,\n",
       "       3, 1, 0, 1, 0, 0, 1, 0, 1, 1, 3, 3, 3, 1, 1, 2, 2, 1, 0, 0, 3, 1,\n",
       "       2, 0, 3, 0, 1, 1, 3, 1, 1, 1, 0, 3, 1, 3, 3, 0, 2, 0, 1, 0, 3, 3,\n",
       "       0, 3, 2, 0, 0, 1, 1, 1, 3, 3, 1, 1, 0, 3, 2, 0, 3, 1, 0, 3, 1, 2,\n",
       "       2, 3, 1, 2, 1, 3, 3, 3, 3, 2, 3, 1, 0, 3, 0, 1, 3, 2, 0, 0, 2, 1,\n",
       "       2, 2, 1, 1, 0, 0, 2, 1, 3, 1, 3, 1, 1, 0, 1, 3, 2, 3, 1, 3, 0, 1,\n",
       "       3, 3, 3, 2, 2, 2, 3, 0, 3, 2, 3, 0, 0, 1, 2, 3, 1, 3, 2, 3, 3, 1,\n",
       "       0, 3, 2, 3, 1, 1, 3, 1, 3, 2, 0, 1, 1, 3, 0, 3, 3, 1, 2, 0, 0, 1,\n",
       "       3, 1, 1, 1, 3, 2, 1, 2, 0, 2, 3, 3, 3, 1, 1, 3, 3, 0, 2, 0, 3, 3,\n",
       "       3, 2, 0, 1, 3, 1, 0, 0, 3, 1, 1, 3, 2, 1, 1, 1, 1, 2, 3, 2, 3, 2,\n",
       "       3, 0, 0, 3, 1, 1, 3, 3, 1, 3, 3, 0, 0, 3, 1, 0, 1, 3, 1, 1, 3, 1,\n",
       "       3, 3, 2, 3, 3, 3, 0, 1, 1, 3, 2, 0, 3, 2, 3, 3, 0, 0, 0, 3, 1, 1,\n",
       "       2, 3, 3, 0, 3, 3, 1, 3, 3, 2, 3, 1, 3, 2], dtype=int64)"
      ]
     },
     "execution_count": 75,
     "metadata": {},
     "output_type": "execute_result"
    }
   ],
   "source": [
    "y_hat = np.argmax(y_predicted,axis=1)\n",
    "y_hat"
   ]
  },
  {
   "cell_type": "code",
   "execution_count": 76,
   "metadata": {},
   "outputs": [],
   "source": [
    "from sklearn.metrics import accuracy_score, confusion_matrix, classification_report"
   ]
  },
  {
   "cell_type": "code",
   "execution_count": 87,
   "metadata": {},
   "outputs": [
    {
     "name": "stdout",
     "output_type": "stream",
     "text": [
      "the accuracy score is :  0.2804878048780488\n"
     ]
    }
   ],
   "source": [
    "acc = accuracy_score(y_true, y_hat,)\n",
    "print(\"the accuracy score is : \", acc)"
   ]
  },
  {
   "cell_type": "code",
   "execution_count": 78,
   "metadata": {},
   "outputs": [
    {
     "data": {
      "text/plain": [
       "array([[33, 32, 10, 53],\n",
       "       [ 3,  2,  2,  6],\n",
       "       [18, 27,  7, 23],\n",
       "       [34, 53, 34, 73]], dtype=int64)"
      ]
     },
     "execution_count": 78,
     "metadata": {},
     "output_type": "execute_result"
    }
   ],
   "source": [
    "confusion_matrix(y_true,y_hat)"
   ]
  },
  {
   "cell_type": "code",
   "execution_count": 84,
   "metadata": {},
   "outputs": [
    {
     "data": {
      "image/png": "[encoded data removed]",
      "text/plain": [
       "<Figure size 640x480 with 2 Axes>"
      ]
     },
     "metadata": {},
     "output_type": "display_data"
    }
   ],
   "source": [
    "sns.heatmap(confusion_matrix(y_true,y_hat), annot=True, fmt=\".2f\",linewidths=2)\n",
    "plt.show()"
   ]
  },
  {
   "cell_type": "markdown",
   "metadata": {},
   "source": [
    "#### Save the model in local."
   ]
  },
  {
   "cell_type": "code",
   "execution_count": 70,
   "metadata": {},
   "outputs": [],
   "source": [
    "model.save(\"Model/vgg16_pretrain_model_epochs_10.h5\",overwrite=True)"
   ]
  }
 ],
 "metadata": {
  "kernelspec": {
   "display_name": "Python 3",
   "language": "python",
   "name": "python3"
  },
  "language_info": {
   "codemirror_mode": {
    "name": "ipython",
    "version": 3
   },
   "file_extension": ".py",
   "mimetype": "text/x-python",
   "name": "python",
   "nbconvert_exporter": "python",
   "pygments_lexer": "ipython3",
   "version": "3.9.13"
  }
 },
 "nbformat": 4,
 "nbformat_minor": 2
}
