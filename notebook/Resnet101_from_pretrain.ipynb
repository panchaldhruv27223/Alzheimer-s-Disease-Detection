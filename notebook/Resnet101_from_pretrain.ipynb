{
 "cells": [
  {
   "cell_type": "code",
   "execution_count": 1,
   "metadata": {},
   "outputs": [],
   "source": [
    "import pandas as pd\n",
    "import numpy as np\n",
    "import seaborn as sns\n",
    "import matplotlib.pyplot as plt\n",
    "import tensorflow as tf\n",
    "from tensorflow.keras.models import Sequential\n",
    "from tensorflow.keras.layers import Dense, Flatten, Conv2D, BatchNormalization, Activation, Add, AveragePooling2D\n",
    "from keras.preprocessing.image import ImageDataGenerator\n",
    "from tensorflow.keras.models import Model\n",
    "from tensorflow.keras.layers import Dropout\n",
    "from keras.optimizers import Adam\n",
    "import os\n",
    "import keras"
   ]
  },
  {
   "cell_type": "code",
   "execution_count": 2,
   "metadata": {},
   "outputs": [
    {
     "data": {
      "text/plain": [
       "['Resnet101_from_pretrain.ipynb',\n",
       " 'Resnet101_from_scratch.ipynb',\n",
       " 'VGG16_from_pretrain.ipynb',\n",
       " 'VGG16_from_scratch.ipynb']"
      ]
     },
     "execution_count": 2,
     "metadata": {},
     "output_type": "execute_result"
    }
   ],
   "source": [
    "os.listdir()"
   ]
  },
  {
   "cell_type": "code",
   "execution_count": 5,
   "metadata": {},
   "outputs": [],
   "source": [
    "os.chdir(\"../\")"
   ]
  },
  {
   "cell_type": "code",
   "execution_count": 6,
   "metadata": {},
   "outputs": [
    {
     "data": {
      "text/plain": [
       "'c:\\\\Users\\\\dhruv\\\\Documents\\\\DA-IICT\\\\sem-1\\\\FOML\\\\DAIICT_FOML_Project\\\\Alzheimers_Disease_Detection'"
      ]
     },
     "execution_count": 6,
     "metadata": {},
     "output_type": "execute_result"
    }
   ],
   "source": [
    "os.getcwd()"
   ]
  },
  {
   "cell_type": "code",
   "execution_count": null,
   "metadata": {},
   "outputs": [
    {
     "name": "stdout",
     "output_type": "stream",
     "text": [
      "geting the train data\n",
      "Found 1581 images belonging to 4 classes.\n",
      "geting the test data\n",
      "Found 410 images belonging to 4 classes.\n",
      "geting the validation data\n",
      "Found 395 images belonging to 4 classes.\n",
      "Data collected successfully\n"
     ]
    }
   ],
   "source": [
    "trainDataGen = ImageDataGenerator(\n",
    "    rescale= 1./255,\n",
    "    zoom_range= 0.2,\n",
    "    horizontal_flip= True,\n",
    "    validation_split= 0.2  \n",
    ")\n",
    "\n",
    "validationDataGen = ImageDataGenerator(\n",
    "    rescale= 1./255,\n",
    "    validation_split=0.2\n",
    ")\n",
    "\n",
    "testDataGen = ImageDataGenerator(\n",
    "    rescale= 1./255 \n",
    ")\n",
    "\n",
    "print(\"geting the train data\")\n",
    "\n",
    "trainData = trainDataGen.flow_from_directory(\n",
    "    \"Data\",\n",
    "    subset=\"training\",\n",
    "    class_mode=\"categorical\",\n",
    "    target_size=(224,224)\n",
    ")\n",
    "\n",
    "print(\"geting the test data\")\n",
    "\n",
    "testData = testDataGen.flow_from_directory(\n",
    "    \"Test_Data\",\n",
    "    class_mode=\"categorical\",\n",
    "    target_size=(224,224)\n",
    ")\n",
    "\n",
    "print(\"geting the validation data\")\n",
    "\n",
    "validData = validationDataGen.flow_from_directory(\n",
    "    \"Data\",\n",
    "    subset=\"validation\",\n",
    "    class_mode=\"categorical\",\n",
    "    target_size=(224,224)\n",
    ")\n",
    "\n",
    "print(\"Data collected successfully\")"
   ]
  },
  {
   "cell_type": "code",
   "execution_count": 9,
   "metadata": {},
   "outputs": [
    {
     "data": {
      "text/plain": [
       "array([0, 0, 0, ..., 3, 3, 3])"
      ]
     },
     "execution_count": 9,
     "metadata": {},
     "output_type": "execute_result"
    }
   ],
   "source": [
    "trainData.classes"
   ]
  },
  {
   "cell_type": "code",
   "execution_count": 10,
   "metadata": {},
   "outputs": [
    {
     "data": {
      "text/plain": [
       "{'Mild Dementia': 0,\n",
       " 'Moderate Dementia': 1,\n",
       " 'Non Demented': 2,\n",
       " 'Very mild Dementia': 3}"
      ]
     },
     "execution_count": 10,
     "metadata": {},
     "output_type": "execute_result"
    }
   ],
   "source": [
    "trainData.class_indices"
   ]
  },
  {
   "cell_type": "code",
   "execution_count": 11,
   "metadata": {},
   "outputs": [],
   "source": [
    "num_class  = trainData.num_classes\n",
    "\n",
    "label_to_class = {\n",
    "    0 : 'Mild Dementia',\n",
    "    1 : 'Moderate Dementia',\n",
    "    2 : 'Non Demented',\n",
    "    3 : 'Very mild Dementia'\n",
    "} \n"
   ]
  },
  {
   "cell_type": "code",
   "execution_count": 12,
   "metadata": {},
   "outputs": [
    {
     "data": {
      "text/plain": [
       "4"
      ]
     },
     "execution_count": 12,
     "metadata": {},
     "output_type": "execute_result"
    }
   ],
   "source": [
    "num_class"
   ]
  },
  {
   "cell_type": "code",
   "execution_count": 13,
   "metadata": {},
   "outputs": [],
   "source": [
    "input_shape = (224,224,3)\n",
    "W = 224\n",
    "H = 224"
   ]
  },
  {
   "cell_type": "code",
   "execution_count": null,
   "metadata": {},
   "outputs": [],
   "source": [
    "from tensorflow.keras.applications import ResNet50"
   ]
  }
 ],
 "metadata": {
  "kernelspec": {
   "display_name": "Python 3",
   "language": "python",
   "name": "python3"
  },
  "language_info": {
   "codemirror_mode": {
    "name": "ipython",
    "version": 3
   },
   "file_extension": ".py",
   "mimetype": "text/x-python",
   "name": "python",
   "nbconvert_exporter": "python",
   "pygments_lexer": "ipython3",
   "version": "3.9.13"
  }
 },
 "nbformat": 4,
 "nbformat_minor": 2
}
